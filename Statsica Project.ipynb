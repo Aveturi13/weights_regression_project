{
 "cells": [
  {
   "cell_type": "markdown",
   "metadata": {},
   "source": [
    "# A. Weight Analysis Project"
   ]
  },
  {
   "cell_type": "markdown",
   "metadata": {},
   "source": [
    "The Task: Determining the factors that play a role in predicting an indivitual's weight."
   ]
  },
  {
   "cell_type": "code",
   "execution_count": null,
   "metadata": {},
   "outputs": [],
   "source": [
    "%%html\n",
    "<img src=\"pictures/weight.jpg\", width=500, height=500>"
   ]
  },
  {
   "cell_type": "markdown",
   "metadata": {},
   "source": [
    "The data used for this project is taken from the National Health and Nutrition Examination Survey of individuals from the United States of America. The following information was collected from participants in this survey:\n",
    "\n",
    "1. Weight - in kilograms - Numerical\n",
    "2. Age - in years - Numerical\n",
    "3. Height - in centimetres - Numerical\n",
    "4. Income Ratio: Ratio of Participant Income to baseline poverty level income - Numerical\n",
    "5. Sex - Male or Female - Categorical\n",
    "6. Activity - Number of dats in the last week including more than 60 minutes of excercise - Numerical"
   ]
  },
  {
   "cell_type": "markdown",
   "metadata": {},
   "source": [
    "Investigation: The end point of this project is to build a regressional model to test whether the chosen features effectively predict an indivituals weight or not. In order build up to this, some preliminary data cleaning and analysis needs to be conducted in order to deal with missing data and exclude any covariates that would not be as relevant to the model."
   ]
  },
  {
   "cell_type": "markdown",
   "metadata": {},
   "source": [
    "# B. Data Inspection and Cleaning"
   ]
  },
  {
   "cell_type": "markdown",
   "metadata": {},
   "source": [
    "First we must import the necessary packages for dealing with the datasets:\n",
    "- pandas\n",
    "- matplotlib\n",
    "- seaborn"
   ]
  },
  {
   "cell_type": "code",
   "execution_count": null,
   "metadata": {},
   "outputs": [],
   "source": [
    "#Importing packages:\n",
    "import pandas as pd\n",
    "from matplotlib import pyplot as plt\n",
    "import seaborn as sns"
   ]
  },
  {
   "cell_type": "markdown",
   "metadata": {},
   "source": [
    "The dataset for this project exists as the file excelica.csv. I will load this file and use the .head() to inspect the first 5 rows of the dataset."
   ]
  },
  {
   "cell_type": "code",
   "execution_count": null,
   "metadata": {},
   "outputs": [],
   "source": [
    "excelica = pd.read_csv(\"excelica.csv\")\n",
    "excelica.head()"
   ]
  },
  {
   "cell_type": "markdown",
   "metadata": {},
   "source": [
    "As can be seen, there are columns which have NaN or null values. Let's find out how many rows are in this dataset and then identify the number of null values in each column specifically."
   ]
  },
  {
   "cell_type": "code",
   "execution_count": null,
   "metadata": {
    "scrolled": true
   },
   "outputs": [],
   "source": [
    "#Find total number of rows in dataframe\n",
    "print(\"Number of rows in dataframe : \" + str(len(excelica)))\n",
    "#Find the number of NaN values in each column of the dataframe\n",
    "print(\"\\nNumber of null values in dataframe: \\n\" + str(excelica.isna().sum()))"
   ]
  },
  {
   "cell_type": "markdown",
   "metadata": {},
   "source": [
    "As can be seen above, activity has the greatest number of null values(7086 values!), followed by height and income(rougly 1000 values). This is problematic as pandas will perform a list-wise deletion during regression: if a record has atleast 1 null value, that entire record will be excluded from the development of the regression line. So we need to deal with this missing data."
   ]
  },
  {
   "cell_type": "code",
   "execution_count": null,
   "metadata": {},
   "outputs": [],
   "source": []
  },
  {
   "cell_type": "markdown",
   "metadata": {},
   "source": [
    "# C. Preliminary Analysis"
   ]
  },
  {
   "cell_type": "markdown",
   "metadata": {},
   "source": [
    "The aim of doing this analysis is to check for how spread out the dataset is and if there is any prevalent bias in the population. When we are determining if the predictors mentioned in section A have any relationship to the Weight, we need to see that the participants are not of one particular type (ex. mostly tall men, or older women etc). Biases such as these can limit how well our Linear Regression model will predict for new participants."
   ]
  },
  {
   "cell_type": "markdown",
   "metadata": {},
   "source": [
    "First, lets obtain summary statistics for the continuous variables of this dataframe. We can use .describe() for this."
   ]
  },
  {
   "cell_type": "code",
   "execution_count": null,
   "metadata": {
    "scrolled": false
   },
   "outputs": [],
   "source": [
    "#Obtaining summary stats for continuous variables\n",
    "print(excelica.describe())\n",
    "\n",
    "#Number of males and females\n",
    "males = excelica[excelica.Sex == \"Male\"]\n",
    "females = excelica[excelica.Sex == \"Female\"]\n",
    "print(\"\\nNumber of males: \" + str(len(males)))\n",
    "print(\"Number of females: \" + str(len(females)))"
   ]
  },
  {
   "cell_type": "markdown",
   "metadata": {},
   "source": [
    "The number of males and females involved in this survey are not equal, although they are roughly around same range so we could still consider analysis to not be too biased. Now lets check the distributions of the continuous variables."
   ]
  },
  {
   "cell_type": "code",
   "execution_count": null,
   "metadata": {},
   "outputs": [],
   "source": [
    "#Isolate each of the continuous variables\n",
    "weight = excelica[\"Weight\"]\n",
    "activity = excelica[\"Activity\"]\n",
    "age = excelica[\"Age\"]\n",
    "height = excelica[\"Height\"]\n",
    "income = excelica[\"Income\"]\n",
    "sex = excelica[\"Sex\"]"
   ]
  },
  {
   "cell_type": "code",
   "execution_count": null,
   "metadata": {
    "scrolled": true
   },
   "outputs": [],
   "source": [
    "#Histogram of weights distribution\n",
    "plt.figure()\n",
    "plt.hist(weight, bins=50, histtype=\"bar\", density=True, color=\"orange\")\n",
    "plt.xlabel(\"Weights\")\n",
    "plt.ylabel(\"Frequency Normed\")\n",
    "plt.title(\"Distribution of Weights of Survey responders\")\n",
    "plt.show()\n",
    "\n",
    "#Histogram of ages distribution\n",
    "plt.figure()\n",
    "plt.hist(age, histtype=\"bar\", density=True, color=\"blue\")\n",
    "plt.xlabel(\"Age\")\n",
    "plt.ylabel(\"Frequency Normed\")\n",
    "plt.title(\"Distribution of Ages of Survey responders\")\n",
    "plt.show()\n",
    "\n",
    "#Histogram of heights distribution\n",
    "plt.figure()\n",
    "plt.hist(height, bins=20, histtype=\"bar\", density=True)\n",
    "plt.xlabel(\"Heights\")\n",
    "plt.ylabel(\"Frequency Normed\")\n",
    "plt.title(\"Distribution of Heights of Survey responders\")\n",
    "plt.show()\n",
    "\n",
    "#Histogram of activity distribution\n",
    "plt.figure()\n",
    "plt.hist(activity, histtype=\"bar\", bins=7, density=True, color=\"green\")\n",
    "plt.xlabel(\"Activity\")\n",
    "plt.ylabel(\"Frequency Normed\")\n",
    "plt.title(\"Distribution of Activity of Survey responders\")\n",
    "plt.show()\n",
    "\n",
    "#Histogram of income distribution\n",
    "plt.figure()\n",
    "plt.hist(income, histtype=\"bar\", bins=15, density=True, color=\"crimson\")\n",
    "plt.xlabel(\"Income\")\n",
    "plt.ylabel(\"Frequency Normed\")\n",
    "plt.title(\"Distribution of Income of Survey responders\")\n",
    "plt.show()"
   ]
  },
  {
   "cell_type": "markdown",
   "metadata": {},
   "source": [
    "Because the data also has a categorical variable, which is the sex, and this definitely has some biological relation to weight, it is also important to check the distribution of the ages and heights of the sexes. We could use violin plots for studying this. A second histogram is also created, just for comparison to make sure that the written code was correct!"
   ]
  },
  {
   "cell_type": "code",
   "execution_count": null,
   "metadata": {
    "scrolled": true
   },
   "outputs": [],
   "source": [
    "males_heights = excelica[\"Height\"][excelica[\"Sex\"] == \"Male\"].dropna()\n",
    "females_heights = excelica[\"Height\"][excelica[\"Sex\"] == \"Female\"].dropna()\n",
    "\n",
    "#Plotting a violinplot of sex vs height\n",
    "plt.figure()\n",
    "plt.title(\"Comparison of Height Distribution by Sex: ViolinPlot\")\n",
    "sns.violinplot(x=sex, y=height)\n",
    "plt.show()\n",
    "\n",
    "#Plotting a histogram of heights of males and females\n",
    "plt.figure()\n",
    "plt.title(\"Comparison of Height Distribution by Sex: Histogram\")\n",
    "plt.hist(males_heights, bins=50, density=True, alpha=0.5)\n",
    "plt.hist(females_heights, bins=50, density=True, alpha=0.5)\n",
    "plt.xlabel(\"Heights\")\n",
    "plt.ylabel(\"Frequency Normed\")\n",
    "plt.legend([\"Male\", \"Female\"])\n",
    "plt.show()"
   ]
  },
  {
   "cell_type": "code",
   "execution_count": null,
   "metadata": {},
   "outputs": [],
   "source": [
    "males_weights = excelica[\"Weight\"][excelica[\"Sex\"] == \"Male\"].dropna()\n",
    "females_weights = excelica[\"Weight\"][excelica[\"Sex\"] == \"Female\"].dropna()\n",
    "\n",
    "#Plotting a histogram of heights of males and females\n",
    "plt.figure()\n",
    "plt.title(\"Comparison of Weight Distribution by Sex: Histogram\")\n",
    "plt.hist(males_weights, bins=50, density=True, alpha=0.5)\n",
    "plt.hist(females_weights, bins=50, density=True, alpha=0.5)\n",
    "plt.xlabel(\"Weights\")\n",
    "plt.ylabel(\"Frequency Normed\")\n",
    "plt.legend([\"Male\", \"Female\"])\n",
    "plt.show()\n",
    "\n",
    "#print(males_weights.mean())\n",
    "#print(females_weights.mean())\n",
    "print(males_weights.var())\n",
    "print(females_weights.var())"
   ]
  },
  {
   "cell_type": "markdown",
   "metadata": {},
   "source": [
    "Looking at this data, we can see that the height distribution is fairly similar between males and females.The mean height of males appears to be greater than females. We can check if there is a significant difference between the mean male and female heights using an ANOVA test."
   ]
  },
  {
   "cell_type": "code",
   "execution_count": null,
   "metadata": {},
   "outputs": [],
   "source": [
    "#Importing ANOVA test from scipy.stats module\n",
    "from scipy.stats import f_oneway"
   ]
  },
  {
   "cell_type": "markdown",
   "metadata": {},
   "source": [
    "In order to do an ANOVA, it was required that the rows of male and female heights that stored null values be dropped."
   ]
  },
  {
   "cell_type": "code",
   "execution_count": null,
   "metadata": {},
   "outputs": [],
   "source": [
    "#Performing ANOVA to compare mean heights of males and females\n",
    "fstat, pval = f_oneway(males_heights, females_heights)\n",
    "print(\"H0: µ of male heights = µ of female heights\")\n",
    "print(\"H1: µ of male heights != µ of female heights\")\n",
    "print(\"p-value: \" + str(pval))"
   ]
  },
  {
   "cell_type": "markdown",
   "metadata": {},
   "source": [
    "The p-value for the ANOVA comparing males and females heights is lesser than 0.05. Thus, we can reject the H0 and conclude that the males and females heights are different."
   ]
  },
  {
   "cell_type": "code",
   "execution_count": null,
   "metadata": {
    "scrolled": true
   },
   "outputs": [],
   "source": [
    "males_ages = excelica[\"Age\"][excelica[\"Sex\"] == \"Male\"]\n",
    "females_ages = excelica[\"Age\"][excelica[\"Sex\"] == \"Female\"]\n",
    "\n",
    "#Plotting a violinplot of sex vs height\n",
    "plt.figure()\n",
    "plt.title(\"Comparison of Age Distribution by Sex: ViolinPlot\")\n",
    "sns.violinplot(x=sex, y=age)\n",
    "plt.show()\n",
    "\n",
    "#Plotting a histogram of heights of males and females\n",
    "plt.figure()\n",
    "plt.title(\"Comparison of Height Distribution by Sex: Histogram\")\n",
    "plt.hist(males_ages, bins=10, density=True, histtype=\"step\",alpha=1)\n",
    "plt.hist(females_ages, bins=10, density=True, histtype=\"step\", alpha=1)\n",
    "plt.xlabel(\"Age\")\n",
    "plt.ylabel(\"Frequency Normed\")\n",
    "plt.legend([\"Male\", \"Female\"])\n",
    "plt.show()"
   ]
  },
  {
   "cell_type": "markdown",
   "metadata": {},
   "source": [
    "For this data as well, the ages of males and females involved in this survey are very similar. We can conduct another ANOVA to compare the mean age of the male and female populations."
   ]
  },
  {
   "cell_type": "code",
   "execution_count": null,
   "metadata": {},
   "outputs": [],
   "source": [
    "#Performing ANOVA to compare mean age of males and females\n",
    "fstat, pval = f_oneway(males_ages, females_ages)\n",
    "print(\"H0: µ of male ages = µ of female ages\")\n",
    "print(\"H1: µ of male ages != µ of female ages\")\n",
    "print(\"p-value: \" + str(pval))"
   ]
  },
  {
   "cell_type": "markdown",
   "metadata": {},
   "source": [
    "The p-value is greater than 0.05, hence we do not reject the null hypothesis and thus conclude that the male and female mean ages are similar."
   ]
  },
  {
   "cell_type": "code",
   "execution_count": null,
   "metadata": {},
   "outputs": [],
   "source": [
    "#Performing ANOVA to compare mean weights of males and females\n",
    "fstat, pval = f_oneway(males_weights, females_weights)\n",
    "print(\"H0: µ of male weights = µ of female weights\")\n",
    "print(\"H1: µ of male weights != µ of female weights\")\n",
    "print(\"p-value: \" + str(pval))"
   ]
  },
  {
   "cell_type": "code",
   "execution_count": null,
   "metadata": {},
   "outputs": [],
   "source": [
    "def scatterplot_maker(rows, columns, X, X_labels, y, y_label):\n",
    "    fig = plt.figure(figsize=[20,6])\n",
    "    plt.rcParams.update({'font.size':20})\n",
    "    for i in range(columns):\n",
    "        ax = plt.subplot(rows, columns, i+1)\n",
    "        plt.scatter(X[i], y, edgecolors='black', linewidth=1)\n",
    "        plt.xlabel(X_labels[i])\n",
    "        plt.ylabel(y_label)\n",
    "        text = 'r = ' + str(X[i].corr(y))\n",
    "        props = dict(boxstyle='round', facecolor='wheat', alpha=0.5)\n",
    "        ax.text(0.05, 0.95, text, transform=ax.transAxes, fontsize=14,\n",
    "        verticalalignment='top', bbox=props)\n",
    "        plt.savefig('corr2.png')\n",
    "    plt.show()\n",
    "\n",
    "X = [age, height]\n",
    "X_labels = ['Age', 'Height']\n",
    "y = weight\n",
    "y_label = 'Weight'\n",
    "scatterplot_maker(rows=1, columns=2, X=X, y=y, X_labels=X_labels, y_label=y_label)\n",
    "\n",
    "plt.figure(figsize=[6, 6])\n",
    "ax = plt.subplot()\n",
    "plt.scatter(income, weight, edgecolors='black', linewidth=1)\n",
    "plt.xlabel('Income')\n",
    "plt.ylabel('Weight')\n",
    "text = 'r = ' + str(income.corr(weight))\n",
    "props = dict(boxstyle='round', facecolor='wheat', alpha=0.5)\n",
    "ax.text(0.05, 0.95, text, transform=ax.transAxes, fontsize=14,\n",
    "verticalalignment='top', bbox=props)\n",
    "plt.savefig('corr_income.png')\n",
    "plt.show()"
   ]
  },
  {
   "cell_type": "markdown",
   "metadata": {},
   "source": [
    "# Linear Regression Analysis"
   ]
  },
  {
   "cell_type": "code",
   "execution_count": null,
   "metadata": {
    "scrolled": true
   },
   "outputs": [],
   "source": [
    "excelica_cleaned = excelica.drop(columns = \"Activity\")\n",
    "excelica_cleaned.head()\n",
    "excelica_cleaned.dropna()\n",
    "excelica_cleaned.isna().any()"
   ]
  },
  {
   "cell_type": "code",
   "execution_count": null,
   "metadata": {},
   "outputs": [],
   "source": [
    "features = [\"Age\", \"Height\", \"Income\"]\n",
    "X = excelica[features]\n",
    "y = excelica[\"Weight\"]\n",
    "X.isna().any()"
   ]
  },
  {
   "cell_type": "code",
   "execution_count": null,
   "metadata": {},
   "outputs": [],
   "source": [
    "from sklearn.linear_model import LinearRegression\n",
    "from sklearn.model_selection import train_test_split"
   ]
  },
  {
   "cell_type": "code",
   "execution_count": null,
   "metadata": {},
   "outputs": [],
   "source": [
    "x_train, x_test, y_train, y_test = train_test_split(X, y, test_size=0.20, random_state=1)"
   ]
  },
  {
   "cell_type": "code",
   "execution_count": null,
   "metadata": {},
   "outputs": [],
   "source": [
    "weight_predictor = LinearRegression()\n",
    "weight_predictor.fit(x_train, y_train)\n",
    "weight_predictor.coef_"
   ]
  }
 ],
 "metadata": {
  "kernelspec": {
   "display_name": "Python 3",
   "language": "python",
   "name": "python3"
  },
  "language_info": {
   "codemirror_mode": {
    "name": "ipython",
    "version": 3
   },
   "file_extension": ".py",
   "mimetype": "text/x-python",
   "name": "python",
   "nbconvert_exporter": "python",
   "pygments_lexer": "ipython3",
   "version": "3.7.1"
  }
 },
 "nbformat": 4,
 "nbformat_minor": 2
}
